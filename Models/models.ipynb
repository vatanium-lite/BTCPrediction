{
 "cells": [
  {
   "cell_type": "code",
   "execution_count": 1,
   "id": "66d587ff",
   "metadata": {},
   "outputs": [],
   "source": [
    "import pandas as pd\n",
    "import numpy as np\n",
    "import matplotlib.pyplot as plt\n",
    "from sklearn import model_selection\n",
    "from sklearn import preprocessing\n",
    "import tensorflow as tf\n",
    "from tensorflow.keras import layers, optimizers"
   ]
  },
  {
   "cell_type": "markdown",
   "id": "21d6750d",
   "metadata": {},
   "source": [
    "# Methods"
   ]
  },
  {
   "cell_type": "markdown",
   "id": "3d803ef6",
   "metadata": {},
   "source": [
    "`make_sequence` turns the samples into an array of sequential samples of specified length.  \n",
    "`make_label` adjusts accordingly the corresponding label of each sequential sample.  \n",
    "`eval_pred` evaluates the predictions of a model by outputting the distance between each prediction to its actual label."
   ]
  },
  {
   "cell_type": "code",
   "execution_count": 2,
   "id": "8ca495ae",
   "metadata": {},
   "outputs": [],
   "source": [
    "def make_sequence(array, length):\n",
    "    sequence = []\n",
    "    for i in range(len(array)-length):\n",
    "        sequence.append(array[i: (i+length)])\n",
    "    return np.asarray(sequence)\n",
    "\n",
    "def make_label(array, offset):\n",
    "    return np.asarray(array[offset:])\n",
    "    \n",
    "def eval_pred(preds, label):\n",
    "    diff = np.array([])\n",
    "    for pred in range(len(label)):\n",
    "        diff = np.append(diff, abs(y_test[pred]-preds[pred]))\n",
    "\n",
    "    return diff"
   ]
  },
  {
   "cell_type": "markdown",
   "id": "82767583",
   "metadata": {},
   "source": [
    "# Organising Data"
   ]
  },
  {
   "cell_type": "code",
   "execution_count": 3,
   "id": "6352afb5",
   "metadata": {},
   "outputs": [
    {
     "data": {
      "text/html": [
       "<div>\n",
       "<style scoped>\n",
       "    .dataframe tbody tr th:only-of-type {\n",
       "        vertical-align: middle;\n",
       "    }\n",
       "\n",
       "    .dataframe tbody tr th {\n",
       "        vertical-align: top;\n",
       "    }\n",
       "\n",
       "    .dataframe thead th {\n",
       "        text-align: right;\n",
       "    }\n",
       "</style>\n",
       "<table border=\"1\" class=\"dataframe\">\n",
       "  <thead>\n",
       "    <tr style=\"text-align: right;\">\n",
       "      <th></th>\n",
       "      <th>timestamp</th>\n",
       "      <th>market-cap</th>\n",
       "      <th>total-btc</th>\n",
       "      <th>n-transactions-avg</th>\n",
       "      <th>block-size-avg(MB)</th>\n",
       "      <th>market-price</th>\n",
       "    </tr>\n",
       "  </thead>\n",
       "  <tbody>\n",
       "    <tr>\n",
       "      <th>0</th>\n",
       "      <td>01/04/2019 00:00</td>\n",
       "      <td>7.208649e+10</td>\n",
       "      <td>17620750.0</td>\n",
       "      <td>377350.7143</td>\n",
       "      <td>1.205358</td>\n",
       "      <td>4114.16</td>\n",
       "    </tr>\n",
       "    <tr>\n",
       "      <th>1</th>\n",
       "      <td>02/04/2019 00:00</td>\n",
       "      <td>7.276155e+10</td>\n",
       "      <td>17622075.0</td>\n",
       "      <td>382363.8571</td>\n",
       "      <td>1.215507</td>\n",
       "      <td>4152.53</td>\n",
       "    </tr>\n",
       "    <tr>\n",
       "      <th>2</th>\n",
       "      <td>03/04/2019 00:00</td>\n",
       "      <td>8.456594e+10</td>\n",
       "      <td>17623412.5</td>\n",
       "      <td>379087.2857</td>\n",
       "      <td>1.248330</td>\n",
       "      <td>4882.88</td>\n",
       "    </tr>\n",
       "    <tr>\n",
       "      <th>3</th>\n",
       "      <td>04/04/2019 00:00</td>\n",
       "      <td>8.902573e+10</td>\n",
       "      <td>17624737.5</td>\n",
       "      <td>373510.4286</td>\n",
       "      <td>1.212958</td>\n",
       "      <td>4959.81</td>\n",
       "    </tr>\n",
       "    <tr>\n",
       "      <th>4</th>\n",
       "      <td>05/04/2019 00:00</td>\n",
       "      <td>9.259859e+10</td>\n",
       "      <td>17626075.0</td>\n",
       "      <td>375978.0000</td>\n",
       "      <td>1.240969</td>\n",
       "      <td>4911.24</td>\n",
       "    </tr>\n",
       "  </tbody>\n",
       "</table>\n",
       "</div>"
      ],
      "text/plain": [
       "          timestamp    market-cap   total-btc  n-transactions-avg  \\\n",
       "0  01/04/2019 00:00  7.208649e+10  17620750.0         377350.7143   \n",
       "1  02/04/2019 00:00  7.276155e+10  17622075.0         382363.8571   \n",
       "2  03/04/2019 00:00  8.456594e+10  17623412.5         379087.2857   \n",
       "3  04/04/2019 00:00  8.902573e+10  17624737.5         373510.4286   \n",
       "4  05/04/2019 00:00  9.259859e+10  17626075.0         375978.0000   \n",
       "\n",
       "   block-size-avg(MB)  market-price  \n",
       "0            1.205358       4114.16  \n",
       "1            1.215507       4152.53  \n",
       "2            1.248330       4882.88  \n",
       "3            1.212958       4959.81  \n",
       "4            1.240969       4911.24  "
      ]
     },
     "execution_count": 3,
     "metadata": {},
     "output_type": "execute_result"
    }
   ],
   "source": [
    "df = pd.read_csv('btc-price-iso.csv', engine='python')\n",
    "df.head()"
   ]
  },
  {
   "cell_type": "markdown",
   "id": "e56ad890",
   "metadata": {},
   "source": [
    "Convert Strings to Datetime."
   ]
  },
  {
   "cell_type": "code",
   "execution_count": 4,
   "id": "2105a2fb",
   "metadata": {},
   "outputs": [
    {
     "data": {
      "text/html": [
       "<div>\n",
       "<style scoped>\n",
       "    .dataframe tbody tr th:only-of-type {\n",
       "        vertical-align: middle;\n",
       "    }\n",
       "\n",
       "    .dataframe tbody tr th {\n",
       "        vertical-align: top;\n",
       "    }\n",
       "\n",
       "    .dataframe thead th {\n",
       "        text-align: right;\n",
       "    }\n",
       "</style>\n",
       "<table border=\"1\" class=\"dataframe\">\n",
       "  <thead>\n",
       "    <tr style=\"text-align: right;\">\n",
       "      <th></th>\n",
       "      <th>timestamp</th>\n",
       "      <th>market-cap</th>\n",
       "      <th>total-btc</th>\n",
       "      <th>n-transactions-avg</th>\n",
       "      <th>block-size-avg(MB)</th>\n",
       "      <th>market-price</th>\n",
       "    </tr>\n",
       "  </thead>\n",
       "  <tbody>\n",
       "    <tr>\n",
       "      <th>0</th>\n",
       "      <td>2019-04-01</td>\n",
       "      <td>7.208649e+10</td>\n",
       "      <td>17620750.0</td>\n",
       "      <td>377350.7143</td>\n",
       "      <td>1.205358</td>\n",
       "      <td>4114.16</td>\n",
       "    </tr>\n",
       "    <tr>\n",
       "      <th>1</th>\n",
       "      <td>2019-04-02</td>\n",
       "      <td>7.276155e+10</td>\n",
       "      <td>17622075.0</td>\n",
       "      <td>382363.8571</td>\n",
       "      <td>1.215507</td>\n",
       "      <td>4152.53</td>\n",
       "    </tr>\n",
       "    <tr>\n",
       "      <th>2</th>\n",
       "      <td>2019-04-03</td>\n",
       "      <td>8.456594e+10</td>\n",
       "      <td>17623412.5</td>\n",
       "      <td>379087.2857</td>\n",
       "      <td>1.248330</td>\n",
       "      <td>4882.88</td>\n",
       "    </tr>\n",
       "    <tr>\n",
       "      <th>3</th>\n",
       "      <td>2019-04-04</td>\n",
       "      <td>8.902573e+10</td>\n",
       "      <td>17624737.5</td>\n",
       "      <td>373510.4286</td>\n",
       "      <td>1.212958</td>\n",
       "      <td>4959.81</td>\n",
       "    </tr>\n",
       "    <tr>\n",
       "      <th>4</th>\n",
       "      <td>2019-04-05</td>\n",
       "      <td>9.259859e+10</td>\n",
       "      <td>17626075.0</td>\n",
       "      <td>375978.0000</td>\n",
       "      <td>1.240969</td>\n",
       "      <td>4911.24</td>\n",
       "    </tr>\n",
       "  </tbody>\n",
       "</table>\n",
       "</div>"
      ],
      "text/plain": [
       "   timestamp    market-cap   total-btc  n-transactions-avg  \\\n",
       "0 2019-04-01  7.208649e+10  17620750.0         377350.7143   \n",
       "1 2019-04-02  7.276155e+10  17622075.0         382363.8571   \n",
       "2 2019-04-03  8.456594e+10  17623412.5         379087.2857   \n",
       "3 2019-04-04  8.902573e+10  17624737.5         373510.4286   \n",
       "4 2019-04-05  9.259859e+10  17626075.0         375978.0000   \n",
       "\n",
       "   block-size-avg(MB)  market-price  \n",
       "0            1.205358       4114.16  \n",
       "1            1.215507       4152.53  \n",
       "2            1.248330       4882.88  \n",
       "3            1.212958       4959.81  \n",
       "4            1.240969       4911.24  "
      ]
     },
     "execution_count": 4,
     "metadata": {},
     "output_type": "execute_result"
    }
   ],
   "source": [
    "df['timestamp'] = pd.to_datetime(df['timestamp'], dayfirst=True)\n",
    "df.head()"
   ]
  },
  {
   "cell_type": "markdown",
   "id": "41f867b3",
   "metadata": {},
   "source": [
    "Break each Datetime down into separate day, month, year columns for easier access."
   ]
  },
  {
   "cell_type": "code",
   "execution_count": 5,
   "id": "41349c50",
   "metadata": {},
   "outputs": [
    {
     "data": {
      "image/png": "[encoded data removed]",
      "text/plain": [
       "<Figure size 1080x360 with 1 Axes>"
      ]
     },
     "metadata": {
      "needs_background": "light"
     },
     "output_type": "display_data"
    }
   ],
   "source": [
    "plt.figure(figsize=(15, 5))\n",
    "plt.plot(df.iloc[:]['timestamp'], df.iloc[:]['market-price'])\n",
    "plt.title('BTC Market Price')\n",
    "plt.xlabel('timestamp')\n",
    "plt.ylabel('price')\n",
    "plt.grid()\n",
    "plt.show()"
   ]
  },
  {
   "cell_type": "markdown",
   "id": "30d12dfb",
   "metadata": {},
   "source": [
    "# Preparing Data"
   ]
  },
  {
   "cell_type": "code",
   "execution_count": 6,
   "id": "c1acc06d",
   "metadata": {},
   "outputs": [
    {
     "data": {
      "text/html": [
       "<div>\n",
       "<style scoped>\n",
       "    .dataframe tbody tr th:only-of-type {\n",
       "        vertical-align: middle;\n",
       "    }\n",
       "\n",
       "    .dataframe tbody tr th {\n",
       "        vertical-align: top;\n",
       "    }\n",
       "\n",
       "    .dataframe thead th {\n",
       "        text-align: right;\n",
       "    }\n",
       "</style>\n",
       "<table border=\"1\" class=\"dataframe\">\n",
       "  <thead>\n",
       "    <tr style=\"text-align: right;\">\n",
       "      <th></th>\n",
       "      <th>timestamp</th>\n",
       "      <th>market-cap</th>\n",
       "      <th>total-btc</th>\n",
       "      <th>n-transactions-avg</th>\n",
       "      <th>block-size-avg(MB)</th>\n",
       "      <th>market-price</th>\n",
       "    </tr>\n",
       "  </thead>\n",
       "  <tbody>\n",
       "    <tr>\n",
       "      <th>0</th>\n",
       "      <td>2019-04-01</td>\n",
       "      <td>7.208649e+10</td>\n",
       "      <td>17620750.0</td>\n",
       "      <td>377350.7143</td>\n",
       "      <td>1.205358</td>\n",
       "      <td>4114.16</td>\n",
       "    </tr>\n",
       "    <tr>\n",
       "      <th>1</th>\n",
       "      <td>2019-04-02</td>\n",
       "      <td>7.276155e+10</td>\n",
       "      <td>17622075.0</td>\n",
       "      <td>382363.8571</td>\n",
       "      <td>1.215507</td>\n",
       "      <td>4152.53</td>\n",
       "    </tr>\n",
       "    <tr>\n",
       "      <th>2</th>\n",
       "      <td>2019-04-03</td>\n",
       "      <td>8.456594e+10</td>\n",
       "      <td>17623412.5</td>\n",
       "      <td>379087.2857</td>\n",
       "      <td>1.248330</td>\n",
       "      <td>4882.88</td>\n",
       "    </tr>\n",
       "    <tr>\n",
       "      <th>3</th>\n",
       "      <td>2019-04-04</td>\n",
       "      <td>8.902573e+10</td>\n",
       "      <td>17624737.5</td>\n",
       "      <td>373510.4286</td>\n",
       "      <td>1.212958</td>\n",
       "      <td>4959.81</td>\n",
       "    </tr>\n",
       "    <tr>\n",
       "      <th>4</th>\n",
       "      <td>2019-04-05</td>\n",
       "      <td>9.259859e+10</td>\n",
       "      <td>17626075.0</td>\n",
       "      <td>375978.0000</td>\n",
       "      <td>1.240969</td>\n",
       "      <td>4911.24</td>\n",
       "    </tr>\n",
       "  </tbody>\n",
       "</table>\n",
       "</div>"
      ],
      "text/plain": [
       "   timestamp    market-cap   total-btc  n-transactions-avg  \\\n",
       "0 2019-04-01  7.208649e+10  17620750.0         377350.7143   \n",
       "1 2019-04-02  7.276155e+10  17622075.0         382363.8571   \n",
       "2 2019-04-03  8.456594e+10  17623412.5         379087.2857   \n",
       "3 2019-04-04  8.902573e+10  17624737.5         373510.4286   \n",
       "4 2019-04-05  9.259859e+10  17626075.0         375978.0000   \n",
       "\n",
       "   block-size-avg(MB)  market-price  \n",
       "0            1.205358       4114.16  \n",
       "1            1.215507       4152.53  \n",
       "2            1.248330       4882.88  \n",
       "3            1.212958       4959.81  \n",
       "4            1.240969       4911.24  "
      ]
     },
     "execution_count": 6,
     "metadata": {},
     "output_type": "execute_result"
    }
   ],
   "source": [
    "df.head()"
   ]
  },
  {
   "cell_type": "markdown",
   "id": "85259be8",
   "metadata": {},
   "source": [
    "### Scaling Data"
   ]
  },
  {
   "cell_type": "code",
   "execution_count": 7,
   "id": "d7ff6488",
   "metadata": {},
   "outputs": [],
   "source": [
    "scaler = preprocessing.StandardScaler()\n",
    "\n",
    "# Features to be scaled\n",
    "scaled_data = scaler.fit_transform(df[['block-size-avg(MB)', 'n-transactions-avg', 'total-btc', 'market-cap', 'market-price']])"
   ]
  },
  {
   "cell_type": "markdown",
   "id": "edc51c18",
   "metadata": {},
   "source": [
    "Make a copy of the original Dataframe for manipulation."
   ]
  },
  {
   "cell_type": "code",
   "execution_count": 8,
   "id": "a094b498",
   "metadata": {},
   "outputs": [],
   "source": [
    "scaled_df = df.copy()"
   ]
  },
  {
   "cell_type": "markdown",
   "id": "766960cd",
   "metadata": {},
   "source": [
    "Replace the features by the scaled version."
   ]
  },
  {
   "cell_type": "code",
   "execution_count": 9,
   "id": "9fcd69ab",
   "metadata": {},
   "outputs": [
    {
     "data": {
      "text/html": [
       "<div>\n",
       "<style scoped>\n",
       "    .dataframe tbody tr th:only-of-type {\n",
       "        vertical-align: middle;\n",
       "    }\n",
       "\n",
       "    .dataframe tbody tr th {\n",
       "        vertical-align: top;\n",
       "    }\n",
       "\n",
       "    .dataframe thead th {\n",
       "        text-align: right;\n",
       "    }\n",
       "</style>\n",
       "<table border=\"1\" class=\"dataframe\">\n",
       "  <thead>\n",
       "    <tr style=\"text-align: right;\">\n",
       "      <th></th>\n",
       "      <th>timestamp</th>\n",
       "      <th>market-cap</th>\n",
       "      <th>total-btc</th>\n",
       "      <th>n-transactions-avg</th>\n",
       "      <th>block-size-avg(MB)</th>\n",
       "      <th>market-price</th>\n",
       "    </tr>\n",
       "  </thead>\n",
       "  <tbody>\n",
       "    <tr>\n",
       "      <th>0</th>\n",
       "      <td>2019-04-01</td>\n",
       "      <td>-0.829039</td>\n",
       "      <td>-1.977428</td>\n",
       "      <td>2.048417</td>\n",
       "      <td>0.191036</td>\n",
       "      <td>-1.099172</td>\n",
       "    </tr>\n",
       "    <tr>\n",
       "      <th>1</th>\n",
       "      <td>2019-04-02</td>\n",
       "      <td>-0.826768</td>\n",
       "      <td>-1.973361</td>\n",
       "      <td>2.175777</td>\n",
       "      <td>0.254517</td>\n",
       "      <td>-1.097153</td>\n",
       "    </tr>\n",
       "    <tr>\n",
       "      <th>2</th>\n",
       "      <td>2019-04-03</td>\n",
       "      <td>-0.787051</td>\n",
       "      <td>-1.969256</td>\n",
       "      <td>2.092535</td>\n",
       "      <td>0.459827</td>\n",
       "      <td>-1.058729</td>\n",
       "    </tr>\n",
       "    <tr>\n",
       "      <th>3</th>\n",
       "      <td>2019-04-04</td>\n",
       "      <td>-0.772045</td>\n",
       "      <td>-1.965190</td>\n",
       "      <td>1.950853</td>\n",
       "      <td>0.238574</td>\n",
       "      <td>-1.054682</td>\n",
       "    </tr>\n",
       "    <tr>\n",
       "      <th>4</th>\n",
       "      <td>2019-04-05</td>\n",
       "      <td>-0.760024</td>\n",
       "      <td>-1.961085</td>\n",
       "      <td>2.013542</td>\n",
       "      <td>0.413783</td>\n",
       "      <td>-1.057237</td>\n",
       "    </tr>\n",
       "  </tbody>\n",
       "</table>\n",
       "</div>"
      ],
      "text/plain": [
       "   timestamp  market-cap  total-btc  n-transactions-avg  block-size-avg(MB)  \\\n",
       "0 2019-04-01   -0.829039  -1.977428            2.048417            0.191036   \n",
       "1 2019-04-02   -0.826768  -1.973361            2.175777            0.254517   \n",
       "2 2019-04-03   -0.787051  -1.969256            2.092535            0.459827   \n",
       "3 2019-04-04   -0.772045  -1.965190            1.950853            0.238574   \n",
       "4 2019-04-05   -0.760024  -1.961085            2.013542            0.413783   \n",
       "\n",
       "   market-price  \n",
       "0     -1.099172  \n",
       "1     -1.097153  \n",
       "2     -1.058729  \n",
       "3     -1.054682  \n",
       "4     -1.057237  "
      ]
     },
     "execution_count": 9,
     "metadata": {},
     "output_type": "execute_result"
    }
   ],
   "source": [
    "scaled_df['block-size-avg(MB)'] = scaled_data[:, 0]\n",
    "scaled_df['n-transactions-avg'] = scaled_data[:, 1]\n",
    "scaled_df['total-btc'] = scaled_data[:, 2]\n",
    "scaled_df['market-cap'] = scaled_data[:, 3]\n",
    "scaled_df['market-price'] = scaled_data[:, 4]\n",
    "scaled_df.head()"
   ]
  },
  {
   "cell_type": "markdown",
   "id": "e263f993",
   "metadata": {},
   "source": [
    "### Splitting the Dataset"
   ]
  },
  {
   "cell_type": "code",
   "execution_count": 10,
   "id": "d55d35c7",
   "metadata": {},
   "outputs": [
    {
     "name": "stdout",
     "output_type": "stream",
     "text": [
      "Dataset size: 1096\n",
      "Training size: 822\n",
      "Testing size: 274\n"
     ]
    }
   ],
   "source": [
    "training, testing = model_selection.train_test_split(scaled_df, shuffle=False)\n",
    "print('Dataset size: %d' % (len(scaled_df)))\n",
    "print('Training size: %d' % (len(training)))\n",
    "print('Testing size: %d' % (len(testing)))"
   ]
  },
  {
   "cell_type": "markdown",
   "id": "1f835190",
   "metadata": {},
   "source": [
    "Select relevant features to train and test."
   ]
  },
  {
   "cell_type": "code",
   "execution_count": 11,
   "id": "36211dab",
   "metadata": {},
   "outputs": [],
   "source": [
    "X_train = training[['market-price', 'block-size-avg(MB)', 'n-transactions-avg', 'total-btc', 'market-cap']].to_numpy()\n",
    "y_train = training['market-price'].to_numpy()"
   ]
  },
  {
   "cell_type": "code",
   "execution_count": 12,
   "id": "0412d3cc",
   "metadata": {},
   "outputs": [],
   "source": [
    "X_test = testing[['market-price', 'block-size-avg(MB)', 'n-transactions-avg', 'total-btc', 'market-cap']].to_numpy()\n",
    "y_test = testing['market-price'].to_numpy()"
   ]
  },
  {
   "cell_type": "markdown",
   "id": "bcbc7481",
   "metadata": {},
   "source": [
    "See data train and test."
   ]
  },
  {
   "cell_type": "code",
   "execution_count": 13,
   "id": "44a7a97c",
   "metadata": {},
   "outputs": [
    {
     "data": {
      "image/png": "[encoded data removed]",
      "text/plain": [
       "<Figure size 1080x360 with 1 Axes>"
      ]
     },
     "metadata": {
      "needs_background": "light"
     },
     "output_type": "display_data"
    }
   ],
   "source": [
    "plt.figure(figsize=(15, 5))\n",
    "plt.plot(training['timestamp'], X_train[:, 0])\n",
    "plt.plot(testing['timestamp'], X_test[:, 0])\n",
    "plt.xlabel('timestamp')\n",
    "plt.ylabel('scaled price')\n",
    "plt.title('BTC Market Price')\n",
    "plt.grid()\n",
    "plt.show()"
   ]
  },
  {
   "cell_type": "markdown",
   "id": "ce06d762",
   "metadata": {},
   "source": [
    "### Making Each Sample Sequential"
   ]
  },
  {
   "cell_type": "code",
   "execution_count": 14,
   "id": "d72e3281",
   "metadata": {},
   "outputs": [],
   "source": [
    "length = 8"
   ]
  },
  {
   "cell_type": "code",
   "execution_count": 15,
   "id": "bf5ad190",
   "metadata": {},
   "outputs": [],
   "source": [
    "X_train = make_sequence(X_train, length)\n",
    "X_test  = make_sequence(X_test, length)\n",
    "y_train = make_label(y_train, length)\n",
    "y_test = make_label(y_test, length)"
   ]
  },
  {
   "cell_type": "markdown",
   "id": "f62503ee",
   "metadata": {},
   "source": [
    "After some slicing,   \n",
    "`X_train` shape: `(814, 8, 5)`  \n",
    "`y_train` shape: `(814, )`   \n",
    "`X_test` shape: `(266, 8, 5)`  \n",
    "`X_train` shape: `(266, )`"
   ]
  },
  {
   "cell_type": "markdown",
   "id": "8c6ad142",
   "metadata": {},
   "source": [
    "See data for one sequence with its corresponding label which the price for the next timestamp."
   ]
  },
  {
   "cell_type": "code",
   "execution_count": 16,
   "id": "2a9a4e30",
   "metadata": {
    "scrolled": true
   },
   "outputs": [],
   "source": [
    "# plt.figure(figsize=(15, 5))\n",
    "# plt.plot(training[0: 8]['timestamp'], X_train[0, :, 0])\n",
    "# plt.scatter(training[8: 9]['timestamp'], y_train[0], marker='o', color='red')\n",
    "# plt.title('BTC Market Price for One Sequence')\n",
    "# plt.xlabel('timestamp')\n",
    "# plt.ylabel('scaled price')\n",
    "# plt.grid()\n",
    "# plt.show()"
   ]
  },
  {
   "cell_type": "markdown",
   "id": "cd62d23c",
   "metadata": {},
   "source": [
    "# Building Models"
   ]
  },
  {
   "cell_type": "markdown",
   "id": "32ae3311",
   "metadata": {},
   "source": [
    "## LSTM"
   ]
  },
  {
   "cell_type": "markdown",
   "id": "863bf5b4",
   "metadata": {},
   "source": [
    "Choose an optimiser for the model."
   ]
  },
  {
   "cell_type": "code",
   "execution_count": 17,
   "id": "de158ca4",
   "metadata": {},
   "outputs": [],
   "source": [
    "optim = optimizers.RMSprop()"
   ]
  },
  {
   "cell_type": "markdown",
   "id": "781f07db",
   "metadata": {},
   "source": [
    "Start building an LSTM model."
   ]
  },
  {
   "cell_type": "code",
   "execution_count": 18,
   "id": "64277fba",
   "metadata": {},
   "outputs": [],
   "source": [
    "lstm = tf.keras.Sequential()\n",
    "lstm.add(layers.LSTM(64, return_sequences=True))\n",
    "lstm.add(layers.Dropout(0.5))\n",
    "lstm.add(layers.LSTM(20,return_sequences=False))\n",
    "lstm.add(layers.Dropout(0.5))\n",
    "lstm.add(layers.Dense(1))\n",
    "lstm.compile(loss='mse', optimizer=optim)"
   ]
  },
  {
   "cell_type": "markdown",
   "id": "3e9957d8",
   "metadata": {},
   "source": [
    "Train the model."
   ]
  },
  {
   "cell_type": "code",
   "execution_count": 19,
   "id": "b13662cb",
   "metadata": {},
   "outputs": [
    {
     "name": "stdout",
     "output_type": "stream",
     "text": [
      "Epoch 1/200\n",
      "26/26 [==============================] - 7s 6ms/step - loss: 0.1980\n",
      "Epoch 2/200\n",
      "26/26 [==============================] - 0s 7ms/step - loss: 0.0736\n",
      "Epoch 3/200\n",
      "26/26 [==============================] - 0s 7ms/step - loss: 0.0677\n",
      "Epoch 4/200\n",
      "26/26 [==============================] - 0s 6ms/step - loss: 0.0746\n",
      "Epoch 5/200\n",
      "26/26 [==============================] - 0s 7ms/step - loss: 0.0594\n",
      "Epoch 6/200\n",
      "26/26 [==============================] - 0s 7ms/step - loss: 0.0615\n",
      "Epoch 7/200\n",
      "26/26 [==============================] - 0s 7ms/step - loss: 0.0672\n",
      "Epoch 8/200\n",
      "26/26 [==============================] - 0s 7ms/step - loss: 0.0650\n",
      "Epoch 9/200\n",
      "26/26 [==============================] - 0s 7ms/step - loss: 0.0519\n",
      "Epoch 10/200\n",
      "26/26 [==============================] - 0s 7ms/step - loss: 0.0560\n",
      "Epoch 11/200\n",
      "26/26 [==============================] - 0s 6ms/step - loss: 0.0535A: 0s - loss: 0.0\n",
      "Epoch 12/200\n",
      "26/26 [==============================] - 0s 7ms/step - loss: 0.0520\n",
      "Epoch 13/200\n",
      "26/26 [==============================] - 0s 11ms/step - loss: 0.0516\n",
      "Epoch 14/200\n",
      "26/26 [==============================] - 0s 15ms/step - loss: 0.0574\n",
      "Epoch 15/200\n",
      "26/26 [==============================] - 0s 9ms/step - loss: 0.0566A: 0s - loss: 0.05\n",
      "Epoch 16/200\n",
      "26/26 [==============================] - 0s 11ms/step - loss: 0.0532\n",
      "Epoch 17/200\n",
      "26/26 [==============================] - 0s 9ms/step - loss: 0.0477\n",
      "Epoch 18/200\n",
      "26/26 [==============================] - 0s 10ms/step - loss: 0.0508\n",
      "Epoch 19/200\n",
      "26/26 [==============================] - 0s 7ms/step - loss: 0.0477\n",
      "Epoch 20/200\n",
      "26/26 [==============================] - 0s 12ms/step - loss: 0.0549\n",
      "Epoch 21/200\n",
      "26/26 [==============================] - 0s 10ms/step - loss: 0.0499\n",
      "Epoch 22/200\n",
      "26/26 [==============================] - 0s 10ms/step - loss: 0.0481\n",
      "Epoch 23/200\n",
      "26/26 [==============================] - 0s 15ms/step - loss: 0.0534\n",
      "Epoch 24/200\n",
      "26/26 [==============================] - 0s 12ms/step - loss: 0.0539\n",
      "Epoch 25/200\n",
      "26/26 [==============================] - 0s 10ms/step - loss: 0.0461\n",
      "Epoch 26/200\n",
      "26/26 [==============================] - 0s 11ms/step - loss: 0.0494\n",
      "Epoch 27/200\n",
      "26/26 [==============================] - 0s 9ms/step - loss: 0.0480\n",
      "Epoch 28/200\n",
      "26/26 [==============================] - 0s 11ms/step - loss: 0.0467\n",
      "Epoch 29/200\n",
      "26/26 [==============================] - 0s 7ms/step - loss: 0.0469\n",
      "Epoch 30/200\n",
      "26/26 [==============================] - 0s 6ms/step - loss: 0.0499\n",
      "Epoch 31/200\n",
      "26/26 [==============================] - 0s 6ms/step - loss: 0.0464\n",
      "Epoch 32/200\n",
      "26/26 [==============================] - 0s 6ms/step - loss: 0.0483\n",
      "Epoch 33/200\n",
      "26/26 [==============================] - 0s 6ms/step - loss: 0.0484\n",
      "Epoch 34/200\n",
      "26/26 [==============================] - 0s 6ms/step - loss: 0.0481\n",
      "Epoch 35/200\n",
      "26/26 [==============================] - 0s 6ms/step - loss: 0.0477\n",
      "Epoch 36/200\n",
      "26/26 [==============================] - 0s 6ms/step - loss: 0.0467\n",
      "Epoch 37/200\n",
      "26/26 [==============================] - 0s 6ms/step - loss: 0.0448\n",
      "Epoch 38/200\n",
      "26/26 [==============================] - 0s 6ms/step - loss: 0.0495\n",
      "Epoch 39/200\n",
      "26/26 [==============================] - 0s 7ms/step - loss: 0.0450\n",
      "Epoch 40/200\n",
      "26/26 [==============================] - 0s 6ms/step - loss: 0.0479\n",
      "Epoch 41/200\n",
      "26/26 [==============================] - 0s 6ms/step - loss: 0.0490\n",
      "Epoch 42/200\n",
      "26/26 [==============================] - 0s 6ms/step - loss: 0.0440\n",
      "Epoch 43/200\n",
      "26/26 [==============================] - 0s 6ms/step - loss: 0.0446\n",
      "Epoch 44/200\n",
      "26/26 [==============================] - 0s 6ms/step - loss: 0.0485\n",
      "Epoch 45/200\n",
      "26/26 [==============================] - 0s 6ms/step - loss: 0.0451\n",
      "Epoch 46/200\n",
      "26/26 [==============================] - 0s 6ms/step - loss: 0.0482\n",
      "Epoch 47/200\n",
      "26/26 [==============================] - 0s 6ms/step - loss: 0.0483\n",
      "Epoch 48/200\n",
      "26/26 [==============================] - 0s 6ms/step - loss: 0.0470\n",
      "Epoch 49/200\n",
      "26/26 [==============================] - 0s 6ms/step - loss: 0.0429\n",
      "Epoch 50/200\n",
      "26/26 [==============================] - 0s 6ms/step - loss: 0.0464\n",
      "Epoch 51/200\n",
      "26/26 [==============================] - 0s 6ms/step - loss: 0.0414\n",
      "Epoch 52/200\n",
      "26/26 [==============================] - 0s 8ms/step - loss: 0.0552\n",
      "Epoch 53/200\n",
      "26/26 [==============================] - 0s 8ms/step - loss: 0.0442\n",
      "Epoch 54/200\n",
      "26/26 [==============================] - 0s 6ms/step - loss: 0.0452\n",
      "Epoch 55/200\n",
      "26/26 [==============================] - 0s 6ms/step - loss: 0.0473\n",
      "Epoch 56/200\n",
      "26/26 [==============================] - 0s 6ms/step - loss: 0.0405\n",
      "Epoch 57/200\n",
      "26/26 [==============================] - 0s 6ms/step - loss: 0.0394\n",
      "Epoch 58/200\n",
      "26/26 [==============================] - 0s 6ms/step - loss: 0.0444\n",
      "Epoch 59/200\n",
      "26/26 [==============================] - 0s 5ms/step - loss: 0.0496\n",
      "Epoch 60/200\n",
      "26/26 [==============================] - 0s 6ms/step - loss: 0.0491\n",
      "Epoch 61/200\n",
      "26/26 [==============================] - 0s 6ms/step - loss: 0.0484\n",
      "Epoch 62/200\n",
      "26/26 [==============================] - 0s 6ms/step - loss: 0.0536\n",
      "Epoch 63/200\n",
      "26/26 [==============================] - 0s 7ms/step - loss: 0.0424\n",
      "Epoch 64/200\n",
      "26/26 [==============================] - 0s 6ms/step - loss: 0.0452\n",
      "Epoch 65/200\n",
      "26/26 [==============================] - 0s 6ms/step - loss: 0.0444\n",
      "Epoch 66/200\n",
      "26/26 [==============================] - 0s 8ms/step - loss: 0.0495\n",
      "Epoch 67/200\n",
      "26/26 [==============================] - 0s 7ms/step - loss: 0.0485\n",
      "Epoch 68/200\n",
      "26/26 [==============================] - 0s 7ms/step - loss: 0.0442\n",
      "Epoch 69/200\n",
      "26/26 [==============================] - 0s 6ms/step - loss: 0.0495\n",
      "Epoch 70/200\n",
      "26/26 [==============================] - 0s 6ms/step - loss: 0.0439\n",
      "Epoch 71/200\n",
      "26/26 [==============================] - 0s 6ms/step - loss: 0.0427\n",
      "Epoch 72/200\n",
      "26/26 [==============================] - 0s 6ms/step - loss: 0.0435\n",
      "Epoch 73/200\n",
      "26/26 [==============================] - 0s 6ms/step - loss: 0.0418\n",
      "Epoch 74/200\n",
      "26/26 [==============================] - 0s 6ms/step - loss: 0.0390\n",
      "Epoch 75/200\n",
      "26/26 [==============================] - 0s 6ms/step - loss: 0.0454\n",
      "Epoch 76/200\n",
      "26/26 [==============================] - 0s 6ms/step - loss: 0.0408\n",
      "Epoch 77/200\n",
      "26/26 [==============================] - 0s 6ms/step - loss: 0.0485\n",
      "Epoch 78/200\n",
      "26/26 [==============================] - 0s 6ms/step - loss: 0.0460\n",
      "Epoch 79/200\n",
      "26/26 [==============================] - 0s 6ms/step - loss: 0.0439\n",
      "Epoch 80/200\n",
      "26/26 [==============================] - 0s 6ms/step - loss: 0.0389\n",
      "Epoch 81/200\n",
      "26/26 [==============================] - 0s 6ms/step - loss: 0.0451\n",
      "Epoch 82/200\n",
      "26/26 [==============================] - 0s 6ms/step - loss: 0.0433\n",
      "Epoch 83/200\n",
      "26/26 [==============================] - 0s 6ms/step - loss: 0.0419\n",
      "Epoch 84/200\n",
      "26/26 [==============================] - 0s 6ms/step - loss: 0.0412\n",
      "Epoch 85/200\n",
      "26/26 [==============================] - 0s 6ms/step - loss: 0.0413\n",
      "Epoch 86/200\n",
      "26/26 [==============================] - 0s 7ms/step - loss: 0.0457\n",
      "Epoch 87/200\n",
      "26/26 [==============================] - 0s 7ms/step - loss: 0.0463\n",
      "Epoch 88/200\n",
      "26/26 [==============================] - 0s 7ms/step - loss: 0.0497\n",
      "Epoch 89/200\n",
      "26/26 [==============================] - 0s 6ms/step - loss: 0.0394\n",
      "Epoch 90/200\n",
      "26/26 [==============================] - 0s 6ms/step - loss: 0.0403\n",
      "Epoch 91/200\n",
      "26/26 [==============================] - 0s 6ms/step - loss: 0.0460\n",
      "Epoch 92/200\n",
      "26/26 [==============================] - 0s 6ms/step - loss: 0.0466\n",
      "Epoch 93/200\n",
      "26/26 [==============================] - 0s 11ms/step - loss: 0.0400\n",
      "Epoch 94/200\n",
      "26/26 [==============================] - 0s 9ms/step - loss: 0.0390\n",
      "Epoch 95/200\n",
      "26/26 [==============================] - 0s 7ms/step - loss: 0.0370\n",
      "Epoch 96/200\n",
      "26/26 [==============================] - 0s 8ms/step - loss: 0.0425\n",
      "Epoch 97/200\n",
      "26/26 [==============================] - 0s 6ms/step - loss: 0.0426\n",
      "Epoch 98/200\n",
      "26/26 [==============================] - 0s 8ms/step - loss: 0.0473\n",
      "Epoch 99/200\n",
      "26/26 [==============================] - 0s 7ms/step - loss: 0.0457\n",
      "Epoch 100/200\n",
      "26/26 [==============================] - 0s 9ms/step - loss: 0.0446\n",
      "Epoch 101/200\n"
     ]
    },
    {
     "name": "stdout",
     "output_type": "stream",
     "text": [
      "26/26 [==============================] - 0s 14ms/step - loss: 0.0434: 0s - loss: 0.044\n",
      "Epoch 102/200\n",
      "26/26 [==============================] - 0s 11ms/step - loss: 0.0403\n",
      "Epoch 103/200\n",
      "26/26 [==============================] - 0s 8ms/step - loss: 0.0399\n",
      "Epoch 104/200\n",
      "26/26 [==============================] - 0s 10ms/step - loss: 0.0423\n",
      "Epoch 105/200\n",
      "26/26 [==============================] - 0s 12ms/step - loss: 0.0399\n",
      "Epoch 106/200\n",
      "26/26 [==============================] - 0s 8ms/step - loss: 0.0524\n",
      "Epoch 107/200\n",
      "26/26 [==============================] - 0s 10ms/step - loss: 0.0413\n",
      "Epoch 108/200\n",
      "26/26 [==============================] - 0s 8ms/step - loss: 0.0415\n",
      "Epoch 109/200\n",
      "26/26 [==============================] - 0s 9ms/step - loss: 0.0499\n",
      "Epoch 110/200\n",
      "26/26 [==============================] - 0s 9ms/step - loss: 0.0440\n",
      "Epoch 111/200\n",
      "26/26 [==============================] - 0s 11ms/step - loss: 0.0362\n",
      "Epoch 112/200\n",
      "26/26 [==============================] - 0s 8ms/step - loss: 0.0425\n",
      "Epoch 113/200\n",
      "26/26 [==============================] - 0s 11ms/step - loss: 0.0474\n",
      "Epoch 114/200\n",
      "26/26 [==============================] - 0s 8ms/step - loss: 0.0355\n",
      "Epoch 115/200\n",
      "26/26 [==============================] - 0s 9ms/step - loss: 0.0407\n",
      "Epoch 116/200\n",
      "26/26 [==============================] - 0s 9ms/step - loss: 0.0477\n",
      "Epoch 117/200\n",
      "26/26 [==============================] - 0s 9ms/step - loss: 0.0429\n",
      "Epoch 118/200\n",
      "26/26 [==============================] - 0s 13ms/step - loss: 0.0434\n",
      "Epoch 119/200\n",
      "26/26 [==============================] - 0s 6ms/step - loss: 0.0429\n",
      "Epoch 120/200\n",
      "26/26 [==============================] - 0s 7ms/step - loss: 0.0426\n",
      "Epoch 121/200\n",
      "26/26 [==============================] - 0s 10ms/step - loss: 0.0451\n",
      "Epoch 122/200\n",
      "26/26 [==============================] - 0s 8ms/step - loss: 0.0373\n",
      "Epoch 123/200\n",
      "26/26 [==============================] - 0s 10ms/step - loss: 0.0462\n",
      "Epoch 124/200\n",
      "26/26 [==============================] - 0s 7ms/step - loss: 0.0421\n",
      "Epoch 125/200\n",
      "26/26 [==============================] - 0s 7ms/step - loss: 0.0404\n",
      "Epoch 126/200\n",
      "26/26 [==============================] - 0s 6ms/step - loss: 0.0388\n",
      "Epoch 127/200\n",
      "26/26 [==============================] - 0s 7ms/step - loss: 0.0403\n",
      "Epoch 128/200\n",
      "26/26 [==============================] - 0s 8ms/step - loss: 0.0365\n",
      "Epoch 129/200\n",
      "26/26 [==============================] - 0s 6ms/step - loss: 0.0440\n",
      "Epoch 130/200\n",
      "26/26 [==============================] - 0s 6ms/step - loss: 0.0428\n",
      "Epoch 131/200\n",
      "26/26 [==============================] - 0s 6ms/step - loss: 0.0455\n",
      "Epoch 132/200\n",
      "26/26 [==============================] - 0s 6ms/step - loss: 0.0399\n",
      "Epoch 133/200\n",
      "26/26 [==============================] - 0s 6ms/step - loss: 0.0407\n",
      "Epoch 134/200\n",
      "26/26 [==============================] - 0s 6ms/step - loss: 0.0445\n",
      "Epoch 135/200\n",
      "26/26 [==============================] - 0s 6ms/step - loss: 0.0433\n",
      "Epoch 136/200\n",
      "26/26 [==============================] - 0s 6ms/step - loss: 0.0391\n",
      "Epoch 137/200\n",
      "26/26 [==============================] - 0s 6ms/step - loss: 0.0401\n",
      "Epoch 138/200\n",
      "26/26 [==============================] - 0s 6ms/step - loss: 0.0439\n",
      "Epoch 139/200\n",
      "26/26 [==============================] - 0s 6ms/step - loss: 0.0379\n",
      "Epoch 140/200\n",
      "26/26 [==============================] - 0s 6ms/step - loss: 0.0421\n",
      "Epoch 141/200\n",
      "26/26 [==============================] - 0s 6ms/step - loss: 0.0403\n",
      "Epoch 142/200\n",
      "26/26 [==============================] - 0s 6ms/step - loss: 0.0434\n",
      "Epoch 143/200\n",
      "26/26 [==============================] - 0s 6ms/step - loss: 0.0390\n",
      "Epoch 144/200\n",
      "26/26 [==============================] - 0s 7ms/step - loss: 0.0453\n",
      "Epoch 145/200\n",
      "26/26 [==============================] - 0s 6ms/step - loss: 0.0441\n",
      "Epoch 146/200\n",
      "26/26 [==============================] - 0s 6ms/step - loss: 0.0383\n",
      "Epoch 147/200\n",
      "26/26 [==============================] - 0s 6ms/step - loss: 0.0381\n",
      "Epoch 148/200\n",
      "26/26 [==============================] - 0s 6ms/step - loss: 0.0431\n",
      "Epoch 149/200\n",
      "26/26 [==============================] - 0s 6ms/step - loss: 0.0446\n",
      "Epoch 150/200\n",
      "26/26 [==============================] - 0s 6ms/step - loss: 0.0429\n",
      "Epoch 151/200\n",
      "26/26 [==============================] - 0s 6ms/step - loss: 0.0418\n",
      "Epoch 152/200\n",
      "26/26 [==============================] - 0s 6ms/step - loss: 0.0458\n",
      "Epoch 153/200\n",
      "26/26 [==============================] - 0s 6ms/step - loss: 0.0479\n",
      "Epoch 154/200\n",
      "26/26 [==============================] - 0s 6ms/step - loss: 0.0481\n",
      "Epoch 155/200\n",
      "26/26 [==============================] - 0s 6ms/step - loss: 0.0452\n",
      "Epoch 156/200\n",
      "26/26 [==============================] - 0s 6ms/step - loss: 0.0464\n",
      "Epoch 157/200\n",
      "26/26 [==============================] - 0s 6ms/step - loss: 0.0390\n",
      "Epoch 158/200\n",
      "26/26 [==============================] - 0s 6ms/step - loss: 0.0434\n",
      "Epoch 159/200\n",
      "26/26 [==============================] - 0s 6ms/step - loss: 0.0379\n",
      "Epoch 160/200\n",
      "26/26 [==============================] - 0s 6ms/step - loss: 0.0473\n",
      "Epoch 161/200\n",
      "26/26 [==============================] - 0s 6ms/step - loss: 0.0457\n",
      "Epoch 162/200\n",
      "26/26 [==============================] - 0s 6ms/step - loss: 0.0413\n",
      "Epoch 163/200\n",
      "26/26 [==============================] - 0s 6ms/step - loss: 0.0417\n",
      "Epoch 164/200\n",
      "26/26 [==============================] - 0s 9ms/step - loss: 0.0398\n",
      "Epoch 165/200\n",
      "26/26 [==============================] - 0s 6ms/step - loss: 0.0388\n",
      "Epoch 166/200\n",
      "26/26 [==============================] - 0s 6ms/step - loss: 0.0403\n",
      "Epoch 167/200\n",
      "26/26 [==============================] - 0s 6ms/step - loss: 0.0392\n",
      "Epoch 168/200\n",
      "26/26 [==============================] - 0s 6ms/step - loss: 0.0361\n",
      "Epoch 169/200\n",
      "26/26 [==============================] - 0s 6ms/step - loss: 0.0448\n",
      "Epoch 170/200\n",
      "26/26 [==============================] - 0s 6ms/step - loss: 0.0429\n",
      "Epoch 171/200\n",
      "26/26 [==============================] - 0s 6ms/step - loss: 0.0359\n",
      "Epoch 172/200\n",
      "26/26 [==============================] - 0s 6ms/step - loss: 0.0427\n",
      "Epoch 173/200\n",
      "26/26 [==============================] - 0s 6ms/step - loss: 0.0452\n",
      "Epoch 174/200\n",
      "26/26 [==============================] - 0s 6ms/step - loss: 0.0417\n",
      "Epoch 175/200\n",
      "26/26 [==============================] - 0s 6ms/step - loss: 0.0376\n",
      "Epoch 176/200\n",
      "26/26 [==============================] - 0s 8ms/step - loss: 0.0439\n",
      "Epoch 177/200\n",
      "26/26 [==============================] - 0s 7ms/step - loss: 0.0426\n",
      "Epoch 178/200\n",
      "26/26 [==============================] - 0s 7ms/step - loss: 0.0432\n",
      "Epoch 179/200\n",
      "26/26 [==============================] - 0s 6ms/step - loss: 0.0478\n",
      "Epoch 180/200\n",
      "26/26 [==============================] - 0s 6ms/step - loss: 0.0433\n",
      "Epoch 181/200\n",
      "26/26 [==============================] - 0s 6ms/step - loss: 0.0460\n",
      "Epoch 182/200\n",
      "26/26 [==============================] - 0s 6ms/step - loss: 0.0417\n",
      "Epoch 183/200\n",
      "26/26 [==============================] - 0s 6ms/step - loss: 0.0365\n",
      "Epoch 184/200\n",
      "26/26 [==============================] - 0s 6ms/step - loss: 0.0498\n",
      "Epoch 185/200\n",
      "26/26 [==============================] - 0s 6ms/step - loss: 0.0352\n",
      "Epoch 186/200\n",
      "26/26 [==============================] - 0s 8ms/step - loss: 0.0358\n",
      "Epoch 187/200\n",
      "26/26 [==============================] - 0s 6ms/step - loss: 0.0363\n",
      "Epoch 188/200\n",
      "26/26 [==============================] - 0s 6ms/step - loss: 0.0395\n",
      "Epoch 189/200\n",
      "26/26 [==============================] - 0s 6ms/step - loss: 0.0355\n",
      "Epoch 190/200\n",
      "26/26 [==============================] - 0s 6ms/step - loss: 0.0405\n",
      "Epoch 191/200\n",
      "26/26 [==============================] - 0s 6ms/step - loss: 0.0433\n",
      "Epoch 192/200\n",
      "26/26 [==============================] - 0s 6ms/step - loss: 0.0379\n",
      "Epoch 193/200\n",
      "26/26 [==============================] - 0s 6ms/step - loss: 0.0391\n",
      "Epoch 194/200\n",
      "26/26 [==============================] - 0s 6ms/step - loss: 0.0339\n",
      "Epoch 195/200\n",
      "26/26 [==============================] - 0s 6ms/step - loss: 0.0500\n",
      "Epoch 196/200\n",
      "26/26 [==============================] - 0s 6ms/step - loss: 0.0415\n",
      "Epoch 197/200\n",
      "26/26 [==============================] - 0s 6ms/step - loss: 0.0454\n",
      "Epoch 198/200\n",
      "26/26 [==============================] - 0s 6ms/step - loss: 0.0402\n",
      "Epoch 199/200\n",
      "26/26 [==============================] - 0s 6ms/step - loss: 0.0397\n",
      "Epoch 200/200\n"
     ]
    },
    {
     "name": "stdout",
     "output_type": "stream",
     "text": [
      "26/26 [==============================] - 0s 6ms/step - loss: 0.0409\n"
     ]
    },
    {
     "data": {
      "text/plain": [
       "<tensorflow.python.keras.callbacks.History at 0x1a3c19e8b50>"
      ]
     },
     "execution_count": 19,
     "metadata": {},
     "output_type": "execute_result"
    }
   ],
   "source": [
    "lstm.fit(X_train, y_train, batch_size=32, epochs=200)"
   ]
  },
  {
   "cell_type": "code",
   "execution_count": 20,
   "id": "59e74733",
   "metadata": {},
   "outputs": [
    {
     "name": "stdout",
     "output_type": "stream",
     "text": [
      "Model: \"sequential\"\n",
      "_________________________________________________________________\n",
      "Layer (type)                 Output Shape              Param #   \n",
      "=================================================================\n",
      "lstm (LSTM)                  (None, 8, 64)             17920     \n",
      "_________________________________________________________________\n",
      "dropout (Dropout)            (None, 8, 64)             0         \n",
      "_________________________________________________________________\n",
      "lstm_1 (LSTM)                (None, 20)                6800      \n",
      "_________________________________________________________________\n",
      "dropout_1 (Dropout)          (None, 20)                0         \n",
      "_________________________________________________________________\n",
      "dense (Dense)                (None, 1)                 21        \n",
      "=================================================================\n",
      "Total params: 24,741\n",
      "Trainable params: 24,741\n",
      "Non-trainable params: 0\n",
      "_________________________________________________________________\n"
     ]
    }
   ],
   "source": [
    "lstm.summary()"
   ]
  },
  {
   "cell_type": "markdown",
   "id": "b4ee946f",
   "metadata": {},
   "source": [
    "### Evaluation"
   ]
  },
  {
   "cell_type": "markdown",
   "id": "dc1e3c86",
   "metadata": {},
   "source": [
    "The following array is the predictions the model has made given test samples."
   ]
  },
  {
   "cell_type": "code",
   "execution_count": 21,
   "id": "38ac2733",
   "metadata": {},
   "outputs": [],
   "source": [
    "preds_test_lstm = lstm.predict(X_test)"
   ]
  },
  {
   "cell_type": "code",
   "execution_count": 22,
   "id": "41752b8a",
   "metadata": {},
   "outputs": [
    {
     "name": "stdout",
     "output_type": "stream",
     "text": [
      "Average test difference: 0.11\n"
     ]
    }
   ],
   "source": [
    "diff = eval_pred(preds_test_lstm, y_test)\n",
    "print('Average test difference: %.2f' % (diff.mean()))"
   ]
  },
  {
   "cell_type": "code",
   "execution_count": 23,
   "id": "5712809a",
   "metadata": {},
   "outputs": [
    {
     "data": {
      "image/png": "[encoded data removed]",
      "text/plain": [
       "<Figure size 1080x360 with 1 Axes>"
      ]
     },
     "metadata": {
      "needs_background": "light"
     },
     "output_type": "display_data"
    }
   ],
   "source": [
    "plt.figure(figsize=(15, 5))\n",
    "\n",
    "plt.plot(preds_test_lstm, color='red', label='LSTM Prediction')\n",
    "plt.plot(y_test, color='blue', label='Actual Label')\n",
    "plt.xlabel('timestamp')\n",
    "plt.ylabel('scaled price')\n",
    "plt.legend(loc='upper left')\n",
    "plt.grid()\n",
    "plt.show()"
   ]
  },
  {
   "cell_type": "markdown",
   "id": "a0053407",
   "metadata": {},
   "source": [
    "## Bidirectional LSTM"
   ]
  },
  {
   "cell_type": "markdown",
   "id": "1b91015b",
   "metadata": {},
   "source": [
    "Build a bidirectional LSTM model, very similar to the LSTM above, except a bidirectional layer is added."
   ]
  },
  {
   "cell_type": "code",
   "execution_count": 36,
   "id": "44896a57",
   "metadata": {},
   "outputs": [],
   "source": [
    "bi_lstm = tf.keras.Sequential()\n",
    "bi_lstm.add(layers.Bidirectional(layers.LSTM(64, return_sequences=True)))\n",
    "bi_lstm.add(layers.Dropout(0.5))\n",
    "bi_lstm.add(layers.Bidirectional(layers.LSTM(20, return_sequences=False)))\n",
    "bi_lstm.add(layers.Dropout(0.5))\n",
    "bi_lstm.add(layers.Dense(1))\n",
    "bi_lstm.compile(loss='mse', optimizer=optim)"
   ]
  },
  {
   "cell_type": "code",
   "execution_count": 37,
   "id": "2aa98f5e",
   "metadata": {},
   "outputs": [
    {
     "name": "stdout",
     "output_type": "stream",
     "text": [
      "Epoch 1/100\n",
      "51/51 [==============================] - 11s 9ms/step - loss: 0.0842\n",
      "Epoch 2/100\n",
      "51/51 [==============================] - 0s 8ms/step - loss: 0.0451\n",
      "Epoch 3/100\n",
      "51/51 [==============================] - 0s 8ms/step - loss: 0.0403\n",
      "Epoch 4/100\n",
      "51/51 [==============================] - 0s 8ms/step - loss: 0.0394\n",
      "Epoch 5/100\n",
      "51/51 [==============================] - 0s 8ms/step - loss: 0.0372\n",
      "Epoch 6/100\n",
      "51/51 [==============================] - 0s 8ms/step - loss: 0.0377\n",
      "Epoch 7/100\n",
      "51/51 [==============================] - 0s 8ms/step - loss: 0.0350\n",
      "Epoch 8/100\n",
      "51/51 [==============================] - 0s 8ms/step - loss: 0.0373\n",
      "Epoch 9/100\n",
      "51/51 [==============================] - 0s 8ms/step - loss: 0.0340\n",
      "Epoch 10/100\n",
      "51/51 [==============================] - 0s 8ms/step - loss: 0.0322\n",
      "Epoch 11/100\n",
      "51/51 [==============================] - 0s 8ms/step - loss: 0.0344\n",
      "Epoch 12/100\n",
      "51/51 [==============================] - 0s 8ms/step - loss: 0.0354\n",
      "Epoch 13/100\n",
      "51/51 [==============================] - 0s 8ms/step - loss: 0.0325\n",
      "Epoch 14/100\n",
      "51/51 [==============================] - 0s 9ms/step - loss: 0.0305\n",
      "Epoch 15/100\n",
      "51/51 [==============================] - 0s 8ms/step - loss: 0.0370\n",
      "Epoch 16/100\n",
      "51/51 [==============================] - 0s 9ms/step - loss: 0.0331\n",
      "Epoch 17/100\n",
      "51/51 [==============================] - 0s 8ms/step - loss: 0.0315\n",
      "Epoch 18/100\n",
      "51/51 [==============================] - 0s 9ms/step - loss: 0.0308\n",
      "Epoch 19/100\n",
      "51/51 [==============================] - 0s 8ms/step - loss: 0.0320\n",
      "Epoch 20/100\n",
      "51/51 [==============================] - 0s 9ms/step - loss: 0.0310\n",
      "Epoch 21/100\n",
      "51/51 [==============================] - 0s 8ms/step - loss: 0.0341\n",
      "Epoch 22/100\n",
      "51/51 [==============================] - 0s 9ms/step - loss: 0.0353\n",
      "Epoch 23/100\n",
      "51/51 [==============================] - 0s 9ms/step - loss: 0.0310\n",
      "Epoch 24/100\n",
      "51/51 [==============================] - 0s 8ms/step - loss: 0.0290\n",
      "Epoch 25/100\n",
      "51/51 [==============================] - 0s 8ms/step - loss: 0.0297\n",
      "Epoch 26/100\n",
      "51/51 [==============================] - 0s 8ms/step - loss: 0.0302\n",
      "Epoch 27/100\n",
      "51/51 [==============================] - 0s 8ms/step - loss: 0.0310\n",
      "Epoch 28/100\n",
      "51/51 [==============================] - 0s 9ms/step - loss: 0.0331\n",
      "Epoch 29/100\n",
      "51/51 [==============================] - 0s 8ms/step - loss: 0.0290\n",
      "Epoch 30/100\n",
      "51/51 [==============================] - 0s 9ms/step - loss: 0.0310\n",
      "Epoch 31/100\n",
      "51/51 [==============================] - 0s 8ms/step - loss: 0.0327\n",
      "Epoch 32/100\n",
      "51/51 [==============================] - 0s 8ms/step - loss: 0.0284\n",
      "Epoch 33/100\n",
      "51/51 [==============================] - 0s 9ms/step - loss: 0.0304\n",
      "Epoch 34/100\n",
      "51/51 [==============================] - 0s 9ms/step - loss: 0.0314\n",
      "Epoch 35/100\n",
      "51/51 [==============================] - 0s 9ms/step - loss: 0.0314\n",
      "Epoch 36/100\n",
      "51/51 [==============================] - 0s 9ms/step - loss: 0.0322\n",
      "Epoch 37/100\n",
      "51/51 [==============================] - 0s 9ms/step - loss: 0.0257\n",
      "Epoch 38/100\n",
      "51/51 [==============================] - 0s 8ms/step - loss: 0.0288\n",
      "Epoch 39/100\n",
      "51/51 [==============================] - 0s 9ms/step - loss: 0.0298\n",
      "Epoch 40/100\n",
      "51/51 [==============================] - 0s 8ms/step - loss: 0.0275\n",
      "Epoch 41/100\n",
      "51/51 [==============================] - 0s 8ms/step - loss: 0.0319\n",
      "Epoch 42/100\n",
      "51/51 [==============================] - 0s 8ms/step - loss: 0.0294\n",
      "Epoch 43/100\n",
      "51/51 [==============================] - 0s 8ms/step - loss: 0.0318\n",
      "Epoch 44/100\n",
      "51/51 [==============================] - 0s 8ms/step - loss: 0.0272\n",
      "Epoch 45/100\n",
      "51/51 [==============================] - 0s 9ms/step - loss: 0.0283\n",
      "Epoch 46/100\n",
      "51/51 [==============================] - 0s 8ms/step - loss: 0.0307\n",
      "Epoch 47/100\n",
      "51/51 [==============================] - 0s 8ms/step - loss: 0.0264\n",
      "Epoch 48/100\n",
      "51/51 [==============================] - 0s 9ms/step - loss: 0.0280\n",
      "Epoch 49/100\n",
      "51/51 [==============================] - 0s 8ms/step - loss: 0.0273\n",
      "Epoch 50/100\n",
      "51/51 [==============================] - 0s 9ms/step - loss: 0.0257\n",
      "Epoch 51/100\n",
      "51/51 [==============================] - 0s 8ms/step - loss: 0.0261\n",
      "Epoch 52/100\n",
      "51/51 [==============================] - 0s 9ms/step - loss: 0.0248A: 0s - loss: 0.0\n",
      "Epoch 53/100\n",
      "51/51 [==============================] - 0s 8ms/step - loss: 0.0298\n",
      "Epoch 54/100\n",
      "51/51 [==============================] - 0s 8ms/step - loss: 0.0255\n",
      "Epoch 55/100\n",
      "51/51 [==============================] - 0s 9ms/step - loss: 0.0260\n",
      "Epoch 56/100\n",
      "51/51 [==============================] - 0s 9ms/step - loss: 0.0315\n",
      "Epoch 57/100\n",
      "51/51 [==============================] - 0s 9ms/step - loss: 0.0267\n",
      "Epoch 58/100\n",
      "51/51 [==============================] - 0s 9ms/step - loss: 0.0271\n",
      "Epoch 59/100\n",
      "51/51 [==============================] - 0s 9ms/step - loss: 0.0248\n",
      "Epoch 60/100\n",
      "51/51 [==============================] - 0s 10ms/step - loss: 0.0310\n",
      "Epoch 61/100\n",
      "51/51 [==============================] - 0s 9ms/step - loss: 0.0245\n",
      "Epoch 62/100\n",
      "51/51 [==============================] - 0s 9ms/step - loss: 0.0291\n",
      "Epoch 63/100\n",
      "51/51 [==============================] - 0s 8ms/step - loss: 0.0272\n",
      "Epoch 64/100\n",
      "51/51 [==============================] - 0s 9ms/step - loss: 0.0226\n",
      "Epoch 65/100\n",
      "51/51 [==============================] - 0s 9ms/step - loss: 0.0217\n",
      "Epoch 66/100\n",
      "51/51 [==============================] - 0s 9ms/step - loss: 0.0249\n",
      "Epoch 67/100\n",
      "51/51 [==============================] - 0s 9ms/step - loss: 0.0256\n",
      "Epoch 68/100\n",
      "51/51 [==============================] - 0s 9ms/step - loss: 0.0228\n",
      "Epoch 69/100\n",
      "51/51 [==============================] - 0s 8ms/step - loss: 0.0231\n",
      "Epoch 70/100\n",
      "51/51 [==============================] - 0s 9ms/step - loss: 0.0289\n",
      "Epoch 71/100\n",
      "51/51 [==============================] - 0s 9ms/step - loss: 0.0278\n",
      "Epoch 72/100\n",
      "51/51 [==============================] - 0s 9ms/step - loss: 0.0250\n",
      "Epoch 73/100\n",
      "51/51 [==============================] - 0s 9ms/step - loss: 0.0280\n",
      "Epoch 74/100\n",
      "51/51 [==============================] - 0s 8ms/step - loss: 0.0283\n",
      "Epoch 75/100\n",
      "51/51 [==============================] - 0s 8ms/step - loss: 0.0280\n",
      "Epoch 76/100\n",
      "51/51 [==============================] - 0s 8ms/step - loss: 0.0272\n",
      "Epoch 77/100\n",
      "51/51 [==============================] - 0s 8ms/step - loss: 0.0223\n",
      "Epoch 78/100\n",
      "51/51 [==============================] - 0s 8ms/step - loss: 0.0223\n",
      "Epoch 79/100\n",
      "51/51 [==============================] - 0s 8ms/step - loss: 0.0199\n",
      "Epoch 80/100\n",
      "51/51 [==============================] - 0s 8ms/step - loss: 0.0264\n",
      "Epoch 81/100\n",
      "51/51 [==============================] - 0s 8ms/step - loss: 0.0241\n",
      "Epoch 82/100\n",
      "51/51 [==============================] - 0s 8ms/step - loss: 0.0215\n",
      "Epoch 83/100\n",
      "51/51 [==============================] - 0s 8ms/step - loss: 0.0245\n",
      "Epoch 84/100\n",
      "51/51 [==============================] - 0s 8ms/step - loss: 0.0275\n",
      "Epoch 85/100\n",
      "51/51 [==============================] - 0s 8ms/step - loss: 0.0256\n",
      "Epoch 86/100\n",
      "51/51 [==============================] - 0s 8ms/step - loss: 0.0253\n",
      "Epoch 87/100\n",
      "51/51 [==============================] - 0s 8ms/step - loss: 0.0227\n",
      "Epoch 88/100\n",
      "51/51 [==============================] - 0s 8ms/step - loss: 0.0261\n",
      "Epoch 89/100\n",
      "51/51 [==============================] - 0s 8ms/step - loss: 0.0238\n",
      "Epoch 90/100\n",
      "51/51 [==============================] - 0s 9ms/step - loss: 0.0260\n",
      "Epoch 91/100\n",
      "51/51 [==============================] - 0s 8ms/step - loss: 0.0284\n",
      "Epoch 92/100\n",
      "51/51 [==============================] - 0s 8ms/step - loss: 0.0280\n",
      "Epoch 93/100\n",
      "51/51 [==============================] - 0s 8ms/step - loss: 0.0267\n",
      "Epoch 94/100\n",
      "51/51 [==============================] - 0s 8ms/step - loss: 0.0260\n",
      "Epoch 95/100\n",
      "51/51 [==============================] - 0s 8ms/step - loss: 0.0265\n",
      "Epoch 96/100\n",
      "51/51 [==============================] - 0s 8ms/step - loss: 0.0266\n",
      "Epoch 97/100\n",
      "51/51 [==============================] - 0s 8ms/step - loss: 0.0295\n",
      "Epoch 98/100\n",
      "51/51 [==============================] - 0s 9ms/step - loss: 0.0287\n",
      "Epoch 99/100\n",
      "51/51 [==============================] - 0s 8ms/step - loss: 0.0237\n",
      "Epoch 100/100\n",
      "51/51 [==============================] - 0s 8ms/step - loss: 0.0243\n"
     ]
    },
    {
     "data": {
      "text/plain": [
       "<tensorflow.python.keras.callbacks.History at 0x1a3dfae4d90>"
      ]
     },
     "execution_count": 37,
     "metadata": {},
     "output_type": "execute_result"
    }
   ],
   "source": [
    "bi_lstm.fit(X_train, y_train, batch_size=16, epochs=100)"
   ]
  },
  {
   "cell_type": "code",
   "execution_count": 38,
   "id": "8b405050",
   "metadata": {},
   "outputs": [
    {
     "name": "stdout",
     "output_type": "stream",
     "text": [
      "Model: \"sequential_3\"\n",
      "_________________________________________________________________\n",
      "Layer (type)                 Output Shape              Param #   \n",
      "=================================================================\n",
      "bidirectional_2 (Bidirection (None, 8, 128)            35840     \n",
      "_________________________________________________________________\n",
      "dropout_6 (Dropout)          (None, 8, 128)            0         \n",
      "_________________________________________________________________\n",
      "bidirectional_3 (Bidirection (None, 40)                23840     \n",
      "_________________________________________________________________\n",
      "dropout_7 (Dropout)          (None, 40)                0         \n",
      "_________________________________________________________________\n",
      "dense_3 (Dense)              (None, 1)                 41        \n",
      "=================================================================\n",
      "Total params: 59,721\n",
      "Trainable params: 59,721\n",
      "Non-trainable params: 0\n",
      "_________________________________________________________________\n"
     ]
    }
   ],
   "source": [
    "bi_lstm.summary()"
   ]
  },
  {
   "cell_type": "markdown",
   "id": "33f41f10",
   "metadata": {},
   "source": [
    "### Evaluation"
   ]
  },
  {
   "cell_type": "code",
   "execution_count": 39,
   "id": "d793db38",
   "metadata": {},
   "outputs": [],
   "source": [
    "preds_test_blstm = bi_lstm.predict(X_test)"
   ]
  },
  {
   "cell_type": "code",
   "execution_count": 40,
   "id": "094bc2df",
   "metadata": {},
   "outputs": [
    {
     "name": "stdout",
     "output_type": "stream",
     "text": [
      "Average difference: 0.15\n"
     ]
    }
   ],
   "source": [
    "bi_diff = eval_pred(preds_test_blstm, y_test)\n",
    "print('Average difference: %.2f' % (bi_diff.mean()))"
   ]
  },
  {
   "cell_type": "code",
   "execution_count": 41,
   "id": "09b49856",
   "metadata": {},
   "outputs": [
    {
     "data": {
      "image/png": "[encoded data removed]",
      "text/plain": [
       "<Figure size 1080x360 with 1 Axes>"
      ]
     },
     "metadata": {
      "needs_background": "light"
     },
     "output_type": "display_data"
    }
   ],
   "source": [
    "plt.figure(figsize=(15, 5))\n",
    "\n",
    "plt.plot(preds_test_blstm, color='red', label='Bi-LSTM Prediction')\n",
    "plt.plot(y_test,color='blue', label='Actual Label')\n",
    "plt.xlabel('timestamp')\n",
    "plt.ylabel('scaled price')\n",
    "plt.legend(loc='upper left')\n",
    "plt.grid()\n",
    "plt.show()"
   ]
  },
  {
   "cell_type": "markdown",
   "id": "eb937a19",
   "metadata": {},
   "source": [
    "## GRU"
   ]
  },
  {
   "cell_type": "markdown",
   "id": "3b8ed212",
   "metadata": {},
   "source": [
    "Here, we are building a Gated Recurrent Unit model, using almost same configurations as the above models."
   ]
  },
  {
   "cell_type": "code",
   "execution_count": 42,
   "id": "4dc3e122",
   "metadata": {},
   "outputs": [],
   "source": [
    "gru = tf.keras.Sequential()\n",
    "gru.add(layers.GRU(64, return_sequences=True))\n",
    "gru.add(layers.Dropout(0.5))\n",
    "gru.add(layers.GRU(20, return_sequences=False))\n",
    "gru.add(layers.Dropout(0.5))\n",
    "gru.add(layers.Dense(1))\n",
    "gru.compile(loss='mse', optimizer=optim)"
   ]
  },
  {
   "cell_type": "code",
   "execution_count": 43,
   "id": "f8bef09a",
   "metadata": {},
   "outputs": [
    {
     "name": "stdout",
     "output_type": "stream",
     "text": [
      "Epoch 1/100\n",
      "51/51 [==============================] - 7s 8ms/step - loss: 0.1841\n",
      "Epoch 2/100\n",
      "51/51 [==============================] - 0s 8ms/step - loss: 0.0981\n",
      "Epoch 3/100\n",
      "51/51 [==============================] - 0s 8ms/step - loss: 0.0865\n",
      "Epoch 4/100\n",
      "51/51 [==============================] - 0s 8ms/step - loss: 0.0859\n",
      "Epoch 5/100\n",
      "51/51 [==============================] - 0s 7ms/step - loss: 0.0667\n",
      "Epoch 6/100\n",
      "51/51 [==============================] - 0s 7ms/step - loss: 0.0632\n",
      "Epoch 7/100\n",
      "51/51 [==============================] - 0s 7ms/step - loss: 0.0603\n",
      "Epoch 8/100\n",
      "51/51 [==============================] - 0s 7ms/step - loss: 0.0549\n",
      "Epoch 9/100\n",
      "51/51 [==============================] - 0s 7ms/step - loss: 0.0594\n",
      "Epoch 10/100\n",
      "51/51 [==============================] - 0s 7ms/step - loss: 0.0587\n",
      "Epoch 11/100\n",
      "51/51 [==============================] - 0s 7ms/step - loss: 0.0586\n",
      "Epoch 12/100\n",
      "51/51 [==============================] - 0s 7ms/step - loss: 0.0599\n",
      "Epoch 13/100\n",
      "51/51 [==============================] - 0s 7ms/step - loss: 0.0542\n",
      "Epoch 14/100\n",
      "51/51 [==============================] - 0s 7ms/step - loss: 0.0590\n",
      "Epoch 15/100\n",
      "51/51 [==============================] - 0s 7ms/step - loss: 0.0536\n",
      "Epoch 16/100\n",
      "51/51 [==============================] - 0s 7ms/step - loss: 0.0485\n",
      "Epoch 17/100\n",
      "51/51 [==============================] - 0s 7ms/step - loss: 0.0534\n",
      "Epoch 18/100\n",
      "51/51 [==============================] - 0s 7ms/step - loss: 0.0515\n",
      "Epoch 19/100\n",
      "51/51 [==============================] - 0s 7ms/step - loss: 0.0566\n",
      "Epoch 20/100\n",
      "51/51 [==============================] - 0s 8ms/step - loss: 0.0506\n",
      "Epoch 21/100\n",
      "51/51 [==============================] - 0s 7ms/step - loss: 0.0477\n",
      "Epoch 22/100\n",
      "51/51 [==============================] - 0s 7ms/step - loss: 0.0442\n",
      "Epoch 23/100\n",
      "51/51 [==============================] - 0s 7ms/step - loss: 0.0547\n",
      "Epoch 24/100\n",
      "51/51 [==============================] - 0s 7ms/step - loss: 0.0454\n",
      "Epoch 25/100\n",
      "51/51 [==============================] - 0s 7ms/step - loss: 0.0506\n",
      "Epoch 26/100\n",
      "51/51 [==============================] - 0s 7ms/step - loss: 0.0512\n",
      "Epoch 27/100\n",
      "51/51 [==============================] - 0s 7ms/step - loss: 0.0472\n",
      "Epoch 28/100\n",
      "51/51 [==============================] - 0s 7ms/step - loss: 0.0418\n",
      "Epoch 29/100\n",
      "51/51 [==============================] - 0s 7ms/step - loss: 0.0437\n",
      "Epoch 30/100\n",
      "51/51 [==============================] - 0s 7ms/step - loss: 0.0438\n",
      "Epoch 31/100\n",
      "51/51 [==============================] - 0s 7ms/step - loss: 0.0398\n",
      "Epoch 32/100\n",
      "51/51 [==============================] - 0s 7ms/step - loss: 0.0481\n",
      "Epoch 33/100\n",
      "51/51 [==============================] - 0s 7ms/step - loss: 0.0461\n",
      "Epoch 34/100\n",
      "51/51 [==============================] - 0s 7ms/step - loss: 0.0463\n",
      "Epoch 35/100\n",
      "51/51 [==============================] - 0s 7ms/step - loss: 0.0534\n",
      "Epoch 36/100\n",
      "51/51 [==============================] - 0s 7ms/step - loss: 0.0520\n",
      "Epoch 37/100\n",
      "51/51 [==============================] - 0s 7ms/step - loss: 0.0431\n",
      "Epoch 38/100\n",
      "51/51 [==============================] - 0s 7ms/step - loss: 0.0502\n",
      "Epoch 39/100\n",
      "51/51 [==============================] - 0s 7ms/step - loss: 0.0496\n",
      "Epoch 40/100\n",
      "51/51 [==============================] - 0s 7ms/step - loss: 0.0417\n",
      "Epoch 41/100\n",
      "51/51 [==============================] - 0s 7ms/step - loss: 0.0461\n",
      "Epoch 42/100\n",
      "51/51 [==============================] - 0s 7ms/step - loss: 0.0474\n",
      "Epoch 43/100\n",
      "51/51 [==============================] - 0s 7ms/step - loss: 0.0448\n",
      "Epoch 44/100\n",
      "51/51 [==============================] - 0s 7ms/step - loss: 0.0462\n",
      "Epoch 45/100\n",
      "51/51 [==============================] - 0s 7ms/step - loss: 0.0486\n",
      "Epoch 46/100\n",
      "51/51 [==============================] - 0s 7ms/step - loss: 0.0453\n",
      "Epoch 47/100\n",
      "51/51 [==============================] - 0s 7ms/step - loss: 0.0422\n",
      "Epoch 48/100\n",
      "51/51 [==============================] - 0s 7ms/step - loss: 0.0535\n",
      "Epoch 49/100\n",
      "51/51 [==============================] - 0s 7ms/step - loss: 0.0512\n",
      "Epoch 50/100\n",
      "51/51 [==============================] - 0s 7ms/step - loss: 0.0443\n",
      "Epoch 51/100\n",
      "51/51 [==============================] - 0s 7ms/step - loss: 0.0421\n",
      "Epoch 52/100\n",
      "51/51 [==============================] - 0s 7ms/step - loss: 0.0499\n",
      "Epoch 53/100\n",
      "51/51 [==============================] - 0s 7ms/step - loss: 0.0418\n",
      "Epoch 54/100\n",
      "51/51 [==============================] - 0s 7ms/step - loss: 0.0415\n",
      "Epoch 55/100\n",
      "51/51 [==============================] - 0s 7ms/step - loss: 0.0457\n",
      "Epoch 56/100\n",
      "51/51 [==============================] - 0s 8ms/step - loss: 0.0475\n",
      "Epoch 57/100\n",
      "51/51 [==============================] - 0s 7ms/step - loss: 0.0446\n",
      "Epoch 58/100\n",
      "51/51 [==============================] - 0s 8ms/step - loss: 0.0471\n",
      "Epoch 59/100\n",
      "51/51 [==============================] - 0s 7ms/step - loss: 0.0481\n",
      "Epoch 60/100\n",
      "51/51 [==============================] - 0s 7ms/step - loss: 0.0466\n",
      "Epoch 61/100\n",
      "51/51 [==============================] - 0s 7ms/step - loss: 0.0412\n",
      "Epoch 62/100\n",
      "51/51 [==============================] - 0s 7ms/step - loss: 0.0420\n",
      "Epoch 63/100\n",
      "51/51 [==============================] - 0s 7ms/step - loss: 0.0460\n",
      "Epoch 64/100\n",
      "51/51 [==============================] - 0s 7ms/step - loss: 0.0484\n",
      "Epoch 65/100\n",
      "51/51 [==============================] - 0s 8ms/step - loss: 0.0392\n",
      "Epoch 66/100\n",
      "51/51 [==============================] - 0s 7ms/step - loss: 0.0459\n",
      "Epoch 67/100\n",
      "51/51 [==============================] - 0s 7ms/step - loss: 0.0357\n",
      "Epoch 68/100\n",
      "51/51 [==============================] - 0s 7ms/step - loss: 0.0374\n",
      "Epoch 69/100\n",
      "51/51 [==============================] - 0s 7ms/step - loss: 0.0432\n",
      "Epoch 70/100\n",
      "51/51 [==============================] - 0s 7ms/step - loss: 0.0410\n",
      "Epoch 71/100\n",
      "51/51 [==============================] - 0s 7ms/step - loss: 0.0486\n",
      "Epoch 72/100\n",
      "51/51 [==============================] - 0s 7ms/step - loss: 0.0416\n",
      "Epoch 73/100\n",
      "51/51 [==============================] - 0s 7ms/step - loss: 0.0413\n",
      "Epoch 74/100\n",
      "51/51 [==============================] - 0s 7ms/step - loss: 0.0413\n",
      "Epoch 75/100\n",
      "51/51 [==============================] - 0s 7ms/step - loss: 0.0438\n",
      "Epoch 76/100\n",
      "51/51 [==============================] - 0s 7ms/step - loss: 0.0432\n",
      "Epoch 77/100\n",
      "51/51 [==============================] - 0s 7ms/step - loss: 0.0447\n",
      "Epoch 78/100\n",
      "51/51 [==============================] - 0s 7ms/step - loss: 0.0404\n",
      "Epoch 79/100\n",
      "51/51 [==============================] - 0s 7ms/step - loss: 0.0406\n",
      "Epoch 80/100\n",
      "51/51 [==============================] - 0s 7ms/step - loss: 0.0451\n",
      "Epoch 81/100\n",
      "51/51 [==============================] - 0s 7ms/step - loss: 0.0392\n",
      "Epoch 82/100\n",
      "51/51 [==============================] - 0s 8ms/step - loss: 0.0389\n",
      "Epoch 83/100\n",
      "51/51 [==============================] - 0s 7ms/step - loss: 0.0397\n",
      "Epoch 84/100\n",
      "51/51 [==============================] - 0s 7ms/step - loss: 0.0469\n",
      "Epoch 85/100\n",
      "51/51 [==============================] - 0s 7ms/step - loss: 0.0415A: 0s - loss: 0.\n",
      "Epoch 86/100\n",
      "51/51 [==============================] - 0s 7ms/step - loss: 0.0482\n",
      "Epoch 87/100\n",
      "51/51 [==============================] - 0s 7ms/step - loss: 0.0419\n",
      "Epoch 88/100\n",
      "51/51 [==============================] - 0s 7ms/step - loss: 0.0519\n",
      "Epoch 89/100\n",
      "51/51 [==============================] - 0s 8ms/step - loss: 0.0368\n",
      "Epoch 90/100\n",
      "51/51 [==============================] - 0s 8ms/step - loss: 0.0366\n",
      "Epoch 91/100\n",
      "51/51 [==============================] - 0s 7ms/step - loss: 0.0393\n",
      "Epoch 92/100\n",
      "51/51 [==============================] - 0s 7ms/step - loss: 0.0375\n",
      "Epoch 93/100\n",
      "51/51 [==============================] - 0s 7ms/step - loss: 0.0466\n",
      "Epoch 94/100\n",
      "51/51 [==============================] - 0s 7ms/step - loss: 0.0422\n",
      "Epoch 95/100\n",
      "51/51 [==============================] - 0s 7ms/step - loss: 0.0476\n",
      "Epoch 96/100\n",
      "51/51 [==============================] - 0s 7ms/step - loss: 0.0382\n",
      "Epoch 97/100\n",
      "51/51 [==============================] - 0s 8ms/step - loss: 0.0394\n",
      "Epoch 98/100\n",
      "51/51 [==============================] - 0s 9ms/step - loss: 0.0392\n",
      "Epoch 99/100\n",
      "51/51 [==============================] - 0s 7ms/step - loss: 0.0511\n",
      "Epoch 100/100\n",
      "51/51 [==============================] - 0s 7ms/step - loss: 0.0398\n"
     ]
    },
    {
     "data": {
      "text/plain": [
       "<tensorflow.python.keras.callbacks.History at 0x1a3eca519a0>"
      ]
     },
     "execution_count": 43,
     "metadata": {},
     "output_type": "execute_result"
    }
   ],
   "source": [
    "gru.fit(X_train, y_train, batch_size=16, epochs=100)"
   ]
  },
  {
   "cell_type": "code",
   "execution_count": 44,
   "id": "bf169157",
   "metadata": {},
   "outputs": [
    {
     "name": "stdout",
     "output_type": "stream",
     "text": [
      "Model: \"sequential_4\"\n",
      "_________________________________________________________________\n",
      "Layer (type)                 Output Shape              Param #   \n",
      "=================================================================\n",
      "gru_2 (GRU)                  (None, 8, 64)             13632     \n",
      "_________________________________________________________________\n",
      "dropout_8 (Dropout)          (None, 8, 64)             0         \n",
      "_________________________________________________________________\n",
      "gru_3 (GRU)                  (None, 20)                5160      \n",
      "_________________________________________________________________\n",
      "dropout_9 (Dropout)          (None, 20)                0         \n",
      "_________________________________________________________________\n",
      "dense_4 (Dense)              (None, 1)                 21        \n",
      "=================================================================\n",
      "Total params: 18,813\n",
      "Trainable params: 18,813\n",
      "Non-trainable params: 0\n",
      "_________________________________________________________________\n"
     ]
    }
   ],
   "source": [
    "gru.summary()"
   ]
  },
  {
   "cell_type": "markdown",
   "id": "929ca8b2",
   "metadata": {},
   "source": [
    "### Evaluation"
   ]
  },
  {
   "cell_type": "code",
   "execution_count": 45,
   "id": "b5eab89f",
   "metadata": {},
   "outputs": [],
   "source": [
    "preds_test_gru = gru.predict(X_test)"
   ]
  },
  {
   "cell_type": "code",
   "execution_count": 46,
   "id": "08048928",
   "metadata": {},
   "outputs": [
    {
     "name": "stdout",
     "output_type": "stream",
     "text": [
      "Average difference: 0.14\n"
     ]
    }
   ],
   "source": [
    "gru_diff = eval_pred(preds_test_gru, y_test)\n",
    "print('Average difference: %.2f' % (gru_diff.mean()))"
   ]
  },
  {
   "cell_type": "code",
   "execution_count": 47,
   "id": "433b7a1e",
   "metadata": {},
   "outputs": [
    {
     "data": {
      "image/png": "[encoded data removed]",
      "text/plain": [
       "<Figure size 1080x360 with 1 Axes>"
      ]
     },
     "metadata": {
      "needs_background": "light"
     },
     "output_type": "display_data"
    }
   ],
   "source": [
    "plt.figure(figsize=(15, 5))\n",
    "\n",
    "plt.plot(preds_test_gru, color='red', label='GRU Prediction')\n",
    "plt.plot(y_test,color='blue', label='Actual Label')\n",
    "plt.xlabel('timestamp')\n",
    "plt.ylabel('scaled price')\n",
    "plt.legend(loc='upper left')\n",
    "plt.grid()\n",
    "plt.show()"
   ]
  }
 ],
 "metadata": {
  "kernelspec": {
   "display_name": "Python 3 (ipykernel)",
   "language": "python",
   "name": "python3"
  },
  "language_info": {
   "codemirror_mode": {
    "name": "ipython",
    "version": 3
   },
   "file_extension": ".py",
   "mimetype": "text/x-python",
   "name": "python",
   "nbconvert_exporter": "python",
   "pygments_lexer": "ipython3",
   "version": "3.8.13"
  }
 },
 "nbformat": 4,
 "nbformat_minor": 5
}
